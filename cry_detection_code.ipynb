{
  "nbformat": 4,
  "nbformat_minor": 0,
  "metadata": {
    "colab": {
      "name": "cry_detection_code.ipynb",
      "provenance": [],
      "collapsed_sections": []
    },
    "kernelspec": {
      "name": "python3",
      "display_name": "Python 3"
    },
    "accelerator": "GPU"
  },
  "cells": [
    {
      "cell_type": "code",
      "metadata": {
        "id": "EcikeofY0mwd",
        "colab_type": "code",
        "colab": {}
      },
      "source": [
        " \n",
        "from google.colab import drive\n",
        "\n",
        "drive.mount('/content/drive')"
      ],
      "execution_count": 0,
      "outputs": []
    },
    {
      "cell_type": "code",
      "metadata": {
        "id": "eXbaCBkdCO-e",
        "colab_type": "code",
        "outputId": "40e94118-c305-4318-d819-fc257c50fc89",
        "colab": {
          "base_uri": "https://localhost:8080/",
          "height": 35
        }
      },
      "source": [
        "cd 'drive'"
      ],
      "execution_count": 0,
      "outputs": [
        {
          "output_type": "stream",
          "text": [
            "/content/drive\n"
          ],
          "name": "stdout"
        }
      ]
    },
    {
      "cell_type": "code",
      "metadata": {
        "id": "4bP0g13R1InH",
        "colab_type": "code",
        "outputId": "1e66bd01-793b-4ea0-b2b1-8ef3047321c8",
        "colab": {
          "base_uri": "https://localhost:8080/",
          "height": 35
        }
      },
      "source": [
        "ls\n"
      ],
      "execution_count": 0,
      "outputs": [
        {
          "output_type": "stream",
          "text": [
            "\u001b[0m\u001b[01;34m'My Drive'\u001b[0m/\n"
          ],
          "name": "stdout"
        }
      ]
    },
    {
      "cell_type": "code",
      "metadata": {
        "id": "pItQZFPz1JX3",
        "colab_type": "code",
        "outputId": "cf2deb90-5ea5-4597-cd9d-43b320d138dd",
        "colab": {
          "base_uri": "https://localhost:8080/",
          "height": 35
        }
      },
      "source": [
        "cd 'My Drive'\n"
      ],
      "execution_count": 0,
      "outputs": [
        {
          "output_type": "stream",
          "text": [
            "/content/drive/My Drive\n"
          ],
          "name": "stdout"
        }
      ]
    },
    {
      "cell_type": "code",
      "metadata": {
        "id": "Ws6HtzV11QwX",
        "colab_type": "code",
        "outputId": "39496e93-d08c-418b-9ab4-45d1b405c720",
        "colab": {
          "base_uri": "https://localhost:8080/",
          "height": 72
        }
      },
      "source": [
        "ls\n"
      ],
      "execution_count": 0,
      "outputs": [
        {
          "output_type": "stream",
          "text": [
            "\u001b[0m\u001b[01;34m'Colab Notebooks'\u001b[0m/            Details.gsheet   pyaar.mp4\n",
            "'Copy of Fest Dates.gsheet'   \u001b[01;34mmovie\u001b[0m/           Resume.gdoc\n",
            " \u001b[01;34mdataset\u001b[0m/                     \u001b[01;34mproject\u001b[0m/        \u001b[01;34m'videos!!'\u001b[0m/\n"
          ],
          "name": "stdout"
        }
      ]
    },
    {
      "cell_type": "code",
      "metadata": {
        "id": "QFWBF2aO1SoS",
        "colab_type": "code",
        "outputId": "e630f132-98b8-4109-a714-a9b35059733d",
        "colab": {
          "base_uri": "https://localhost:8080/",
          "height": 35
        }
      },
      "source": [
        "cd 'project'"
      ],
      "execution_count": 0,
      "outputs": [
        {
          "output_type": "stream",
          "text": [
            "/content/drive/My Drive/project\n"
          ],
          "name": "stdout"
        }
      ]
    },
    {
      "cell_type": "code",
      "metadata": {
        "id": "eWdeunwl1VjZ",
        "colab_type": "code",
        "outputId": "c0ac8db7-1471-4c0e-b5ea-7f4ee8fe0e66",
        "colab": {
          "base_uri": "https://localhost:8080/",
          "height": 35
        }
      },
      "source": [
        "ls\n"
      ],
      "execution_count": 0,
      "outputs": [
        {
          "output_type": "stream",
          "text": [
            "\u001b[0m\u001b[01;34mdataset\u001b[0m/  Untitled0.ipynb\n"
          ],
          "name": "stdout"
        }
      ]
    },
    {
      "cell_type": "code",
      "metadata": {
        "id": "q0m6Quh_1Wwn",
        "colab_type": "code",
        "outputId": "11c94bfc-9ce3-47be-f7d7-14e3c63579f3",
        "colab": {
          "base_uri": "https://localhost:8080/",
          "height": 83
        }
      },
      "source": [
        "from keras.models import Sequential"
      ],
      "execution_count": 0,
      "outputs": [
        {
          "output_type": "stream",
          "text": [
            "Using TensorFlow backend.\n"
          ],
          "name": "stderr"
        },
        {
          "output_type": "display_data",
          "data": {
            "text/html": [
              "<p style=\"color: red;\">\n",
              "The default version of TensorFlow in Colab will soon switch to TensorFlow 2.x.<br>\n",
              "We recommend you <a href=\"https://www.tensorflow.org/guide/migrate\" target=\"_blank\">upgrade</a> now \n",
              "or ensure your notebook will continue to use TensorFlow 1.x via the <code>%tensorflow_version 1.x</code> magic:\n",
              "<a href=\"https://colab.research.google.com/notebooks/tensorflow_version.ipynb\" target=\"_blank\">more info</a>.</p>\n"
            ],
            "text/plain": [
              "<IPython.core.display.HTML object>"
            ]
          },
          "metadata": {
            "tags": []
          }
        }
      ]
    },
    {
      "cell_type": "code",
      "metadata": {
        "id": "nn-4Zkp21lqF",
        "colab_type": "code",
        "colab": {}
      },
      "source": [
        "from keras.layers import Convolution2D\n",
        "from keras.layers import MaxPooling2D\n",
        "from keras.layers import Flatten \n",
        "from keras.layers import Dense"
      ],
      "execution_count": 0,
      "outputs": []
    },
    {
      "cell_type": "code",
      "metadata": {
        "id": "X1SbCR0Q3Zf9",
        "colab_type": "code",
        "outputId": "0a622f6a-d794-450d-cb8d-bad56b4b5ec4",
        "colab": {
          "base_uri": "https://localhost:8080/",
          "height": 74
        }
      },
      "source": [
        "\n",
        "classifier = Sequential()"
      ],
      "execution_count": 0,
      "outputs": [
        {
          "output_type": "stream",
          "text": [
            "WARNING:tensorflow:From /usr/local/lib/python3.6/dist-packages/keras/backend/tensorflow_backend.py:66: The name tf.get_default_graph is deprecated. Please use tf.compat.v1.get_default_graph instead.\n",
            "\n"
          ],
          "name": "stdout"
        }
      ]
    },
    {
      "cell_type": "code",
      "metadata": {
        "id": "X0z-BXEBLc_Q",
        "colab_type": "code",
        "outputId": "427d9e92-a08d-4c4e-99e7-0836cda6430b",
        "colab": {
          "base_uri": "https://localhost:8080/",
          "height": 441
        }
      },
      "source": [
        "classifier = Sequential()\n",
        "\n",
        "#adding a convolution layer\n",
        "classifier.add(Convolution2D(32 , 3 , 3 , input_shape = (64 , 64 , 3) , activation = 'relu'))\n",
        "classifier.add(MaxPooling2D(pool_size = (2,2)))\n",
        "\n",
        "\n",
        "#adding the second convolution layer\n",
        "classifier.add(Convolution2D(32 , 3, 3, activation = 'relu'))\n",
        "classifier.add(MaxPooling2D(pool_size = (2,2)))\n",
        "\n",
        "\n",
        "classifier.add(Flatten())\n",
        "\n",
        "classifier.add(Dense(output_dim =  128 , activation = 'relu'))\n",
        "classifier.add(Dense(output_dim = 128 , activation = 'relu'))\n",
        "classifier.add(Dense(output_dim = 1 , activation = 'sigmoid'))\n",
        "\n",
        "# Compiling the CNN\n",
        "classifier.compile(optimizer = 'adam', loss = 'binary_crossentropy', metrics = ['accuracy'])"
      ],
      "execution_count": 0,
      "outputs": [
        {
          "output_type": "stream",
          "text": [
            "WARNING:tensorflow:From /usr/local/lib/python3.6/dist-packages/keras/backend/tensorflow_backend.py:541: The name tf.placeholder is deprecated. Please use tf.compat.v1.placeholder instead.\n",
            "\n",
            "WARNING:tensorflow:From /usr/local/lib/python3.6/dist-packages/keras/backend/tensorflow_backend.py:4432: The name tf.random_uniform is deprecated. Please use tf.random.uniform instead.\n",
            "\n",
            "WARNING:tensorflow:From /usr/local/lib/python3.6/dist-packages/keras/backend/tensorflow_backend.py:4267: The name tf.nn.max_pool is deprecated. Please use tf.nn.max_pool2d instead.\n",
            "\n",
            "WARNING:tensorflow:From /usr/local/lib/python3.6/dist-packages/keras/optimizers.py:793: The name tf.train.Optimizer is deprecated. Please use tf.compat.v1.train.Optimizer instead.\n",
            "\n",
            "WARNING:tensorflow:From /usr/local/lib/python3.6/dist-packages/keras/backend/tensorflow_backend.py:3657: The name tf.log is deprecated. Please use tf.math.log instead.\n",
            "\n",
            "WARNING:tensorflow:From /usr/local/lib/python3.6/dist-packages/tensorflow_core/python/ops/nn_impl.py:183: where (from tensorflow.python.ops.array_ops) is deprecated and will be removed in a future version.\n",
            "Instructions for updating:\n",
            "Use tf.where in 2.0, which has the same broadcast rule as np.where\n"
          ],
          "name": "stdout"
        },
        {
          "output_type": "stream",
          "text": [
            "/usr/local/lib/python3.6/dist-packages/ipykernel_launcher.py:4: UserWarning: Update your `Conv2D` call to the Keras 2 API: `Conv2D(32, (3, 3), input_shape=(64, 64, 3..., activation=\"relu\")`\n",
            "  after removing the cwd from sys.path.\n",
            "/usr/local/lib/python3.6/dist-packages/ipykernel_launcher.py:9: UserWarning: Update your `Conv2D` call to the Keras 2 API: `Conv2D(32, (3, 3), activation=\"relu\")`\n",
            "  if __name__ == '__main__':\n",
            "/usr/local/lib/python3.6/dist-packages/ipykernel_launcher.py:15: UserWarning: Update your `Dense` call to the Keras 2 API: `Dense(activation=\"relu\", units=128)`\n",
            "  from ipykernel import kernelapp as app\n",
            "/usr/local/lib/python3.6/dist-packages/ipykernel_launcher.py:16: UserWarning: Update your `Dense` call to the Keras 2 API: `Dense(activation=\"relu\", units=128)`\n",
            "  app.launch_new_instance()\n",
            "/usr/local/lib/python3.6/dist-packages/ipykernel_launcher.py:17: UserWarning: Update your `Dense` call to the Keras 2 API: `Dense(activation=\"sigmoid\", units=1)`\n"
          ],
          "name": "stderr"
        }
      ]
    },
    {
      "cell_type": "code",
      "metadata": {
        "id": "7U8mCyK_LgFi",
        "colab_type": "code",
        "colab": {}
      },
      "source": [
        "from keras.preprocessing.image import ImageDataGenerator"
      ],
      "execution_count": 0,
      "outputs": []
    },
    {
      "cell_type": "code",
      "metadata": {
        "id": "oZHPiaVDL4ro",
        "colab_type": "code",
        "colab": {}
      },
      "source": [
        "train_datagen = ImageDataGenerator(rescale = 1./255,\n",
        "                                   shear_range = 0.2,\n",
        "                                   zoom_range = 0.2,\n",
        "                                   horizontal_flip = True)\n"
      ],
      "execution_count": 0,
      "outputs": []
    },
    {
      "cell_type": "code",
      "metadata": {
        "id": "Ub3rGV5aMFbd",
        "colab_type": "code",
        "colab": {}
      },
      "source": [
        "test_datagen = ImageDataGenerator(rescale = 1./255)"
      ],
      "execution_count": 0,
      "outputs": []
    },
    {
      "cell_type": "code",
      "metadata": {
        "id": "65SfBnZaMPGI",
        "colab_type": "code",
        "outputId": "7ee59c33-fc19-4c26-f0a2-ae320f527ff6",
        "colab": {
          "base_uri": "https://localhost:8080/",
          "height": 35
        }
      },
      "source": [
        "training_set = train_datagen.flow_from_directory('dataset/training_set',\n",
        "                                                 target_size = (64, 64),\n",
        "                                                 batch_size = 16,\n",
        "                                                 class_mode = 'binary')"
      ],
      "execution_count": 0,
      "outputs": [
        {
          "output_type": "stream",
          "text": [
            "Found 160 images belonging to 2 classes.\n"
          ],
          "name": "stdout"
        }
      ]
    },
    {
      "cell_type": "code",
      "metadata": {
        "id": "Asjq33vWMWnQ",
        "colab_type": "code",
        "outputId": "07938607-5a75-4ef9-8372-bbe8e8ffd0ea",
        "colab": {
          "base_uri": "https://localhost:8080/",
          "height": 35
        }
      },
      "source": [
        "\n",
        "test_set = test_datagen.flow_from_directory('dataset/test_set',\n",
        "                                            target_size = (64, 64),\n",
        "                                            batch_size = 16,\n",
        "                                            class_mode = 'binary')"
      ],
      "execution_count": 0,
      "outputs": [
        {
          "output_type": "stream",
          "text": [
            "Found 56 images belonging to 2 classes.\n"
          ],
          "name": "stdout"
        }
      ]
    },
    {
      "cell_type": "code",
      "metadata": {
        "id": "Rpne64_awGdo",
        "colab_type": "code",
        "colab": {}
      },
      "source": [
        "from keras.callbacks import History \n",
        "history = History()"
      ],
      "execution_count": 0,
      "outputs": []
    },
    {
      "cell_type": "code",
      "metadata": {
        "id": "694ZeUo-MeyL",
        "colab_type": "code",
        "outputId": "b6a70307-7b76-46c5-f2b6-f8a4f0cf6b4d",
        "colab": {
          "base_uri": "https://localhost:8080/",
          "height": 1000
        }
      },
      "source": [
        "\n",
        "classifier.fit_generator(training_set,\n",
        "                         samples_per_epoch = 160,\n",
        "                         nb_epoch = 25,\n",
        "                         validation_data = test_set,\n",
        "                         nb_val_samples = 56,callbacks=[history])"
      ],
      "execution_count": 0,
      "outputs": [
        {
          "output_type": "stream",
          "text": [
            "/usr/local/lib/python3.6/dist-packages/ipykernel_launcher.py:6: UserWarning: The semantics of the Keras 2 argument `steps_per_epoch` is not the same as the Keras 1 argument `samples_per_epoch`. `steps_per_epoch` is the number of batches to draw from the generator at each epoch. Basically steps_per_epoch = samples_per_epoch/batch_size. Similarly `nb_val_samples`->`validation_steps` and `val_samples`->`steps` arguments have changed. Update your method calls accordingly.\n",
            "  \n",
            "/usr/local/lib/python3.6/dist-packages/ipykernel_launcher.py:6: UserWarning: Update your `fit_generator` call to the Keras 2 API: `fit_generator(<keras_pre..., validation_data=<keras_pre..., callbacks=[<keras.ca..., steps_per_epoch=10, epochs=25, validation_steps=56)`\n",
            "  \n"
          ],
          "name": "stderr"
        },
        {
          "output_type": "stream",
          "text": [
            "WARNING:tensorflow:From /usr/local/lib/python3.6/dist-packages/keras/backend/tensorflow_backend.py:1033: The name tf.assign_add is deprecated. Please use tf.compat.v1.assign_add instead.\n",
            "\n",
            "WARNING:tensorflow:From /usr/local/lib/python3.6/dist-packages/keras/backend/tensorflow_backend.py:1020: The name tf.assign is deprecated. Please use tf.compat.v1.assign instead.\n",
            "\n",
            "WARNING:tensorflow:From /usr/local/lib/python3.6/dist-packages/keras/backend/tensorflow_backend.py:3005: The name tf.Session is deprecated. Please use tf.compat.v1.Session instead.\n",
            "\n",
            "Epoch 1/25\n",
            "WARNING:tensorflow:From /usr/local/lib/python3.6/dist-packages/keras/backend/tensorflow_backend.py:190: The name tf.get_default_session is deprecated. Please use tf.compat.v1.get_default_session instead.\n",
            "\n",
            "WARNING:tensorflow:From /usr/local/lib/python3.6/dist-packages/keras/backend/tensorflow_backend.py:197: The name tf.ConfigProto is deprecated. Please use tf.compat.v1.ConfigProto instead.\n",
            "\n",
            "WARNING:tensorflow:From /usr/local/lib/python3.6/dist-packages/keras/backend/tensorflow_backend.py:207: The name tf.global_variables is deprecated. Please use tf.compat.v1.global_variables instead.\n",
            "\n",
            "WARNING:tensorflow:From /usr/local/lib/python3.6/dist-packages/keras/backend/tensorflow_backend.py:216: The name tf.is_variable_initialized is deprecated. Please use tf.compat.v1.is_variable_initialized instead.\n",
            "\n",
            "WARNING:tensorflow:From /usr/local/lib/python3.6/dist-packages/keras/backend/tensorflow_backend.py:223: The name tf.variables_initializer is deprecated. Please use tf.compat.v1.variables_initializer instead.\n",
            "\n",
            "10/10 [==============================] - 70s 7s/step - loss: 0.7259 - acc: 0.4500 - val_loss: 0.6926 - val_acc: 0.5000\n",
            "Epoch 2/25\n",
            "10/10 [==============================] - 6s 633ms/step - loss: 0.6957 - acc: 0.4750 - val_loss: 0.6900 - val_acc: 0.5000\n",
            "Epoch 3/25\n",
            "10/10 [==============================] - 6s 633ms/step - loss: 0.6898 - acc: 0.5250 - val_loss: 0.6838 - val_acc: 0.6964\n",
            "Epoch 4/25\n",
            "10/10 [==============================] - 6s 632ms/step - loss: 0.7006 - acc: 0.5625 - val_loss: 0.6805 - val_acc: 0.5000\n",
            "Epoch 5/25\n",
            "10/10 [==============================] - 6s 624ms/step - loss: 0.6807 - acc: 0.6000 - val_loss: 0.6809 - val_acc: 0.5000\n",
            "Epoch 6/25\n",
            "10/10 [==============================] - 6s 633ms/step - loss: 0.6653 - acc: 0.6000 - val_loss: 0.6549 - val_acc: 0.7679\n",
            "Epoch 7/25\n",
            "10/10 [==============================] - 6s 632ms/step - loss: 0.5980 - acc: 0.7125 - val_loss: 0.6206 - val_acc: 0.5714\n",
            "Epoch 8/25\n",
            "10/10 [==============================] - 6s 622ms/step - loss: 0.5988 - acc: 0.5687 - val_loss: 0.5322 - val_acc: 0.6429\n",
            "Epoch 9/25\n",
            "10/10 [==============================] - 6s 624ms/step - loss: 0.4221 - acc: 0.8875 - val_loss: 0.3905 - val_acc: 0.8036\n",
            "Epoch 10/25\n",
            "10/10 [==============================] - 6s 623ms/step - loss: 0.2469 - acc: 0.9313 - val_loss: 0.1931 - val_acc: 0.9643\n",
            "Epoch 11/25\n",
            "10/10 [==============================] - 6s 632ms/step - loss: 0.1827 - acc: 0.9187 - val_loss: 0.1029 - val_acc: 0.9821\n",
            "Epoch 12/25\n",
            "10/10 [==============================] - 6s 624ms/step - loss: 0.1187 - acc: 0.9688 - val_loss: 0.0923 - val_acc: 0.9821\n",
            "Epoch 13/25\n",
            "10/10 [==============================] - 6s 623ms/step - loss: 0.0895 - acc: 0.9625 - val_loss: 0.0510 - val_acc: 1.0000\n",
            "Epoch 14/25\n",
            "10/10 [==============================] - 6s 622ms/step - loss: 0.0752 - acc: 0.9875 - val_loss: 0.0898 - val_acc: 0.9643\n",
            "Epoch 15/25\n",
            "10/10 [==============================] - 6s 632ms/step - loss: 0.0926 - acc: 0.9625 - val_loss: 0.2370 - val_acc: 0.8929\n",
            "Epoch 16/25\n",
            "10/10 [==============================] - 6s 621ms/step - loss: 0.0763 - acc: 0.9688 - val_loss: 0.0676 - val_acc: 0.9821\n",
            "Epoch 17/25\n",
            "10/10 [==============================] - 6s 624ms/step - loss: 0.0529 - acc: 0.9812 - val_loss: 0.0272 - val_acc: 1.0000\n",
            "Epoch 18/25\n",
            "10/10 [==============================] - 6s 631ms/step - loss: 0.0574 - acc: 0.9812 - val_loss: 0.1154 - val_acc: 0.9464\n",
            "Epoch 19/25\n",
            "10/10 [==============================] - 6s 622ms/step - loss: 0.0465 - acc: 0.9875 - val_loss: 0.1935 - val_acc: 0.9107\n",
            "Epoch 20/25\n",
            "10/10 [==============================] - 6s 622ms/step - loss: 0.0403 - acc: 0.9938 - val_loss: 0.0284 - val_acc: 0.9821\n",
            "Epoch 21/25\n",
            "10/10 [==============================] - 6s 623ms/step - loss: 0.0233 - acc: 0.9938 - val_loss: 0.0492 - val_acc: 0.9821\n",
            "Epoch 22/25\n",
            "10/10 [==============================] - 6s 624ms/step - loss: 0.0175 - acc: 1.0000 - val_loss: 0.0420 - val_acc: 0.9821\n",
            "Epoch 23/25\n",
            "10/10 [==============================] - 6s 621ms/step - loss: 0.0209 - acc: 0.9938 - val_loss: 0.0105 - val_acc: 1.0000\n",
            "Epoch 24/25\n",
            "10/10 [==============================] - 6s 623ms/step - loss: 0.0178 - acc: 1.0000 - val_loss: 0.1070 - val_acc: 0.9286\n",
            "Epoch 25/25\n",
            "10/10 [==============================] - 6s 621ms/step - loss: 0.0126 - acc: 1.0000 - val_loss: 0.0176 - val_acc: 1.0000\n"
          ],
          "name": "stdout"
        },
        {
          "output_type": "execute_result",
          "data": {
            "text/plain": [
              "<keras.callbacks.History at 0x7fcda74dd470>"
            ]
          },
          "metadata": {
            "tags": []
          },
          "execution_count": 18
        }
      ]
    },
    {
      "cell_type": "code",
      "metadata": {
        "id": "QhE-vzBJMjTC",
        "colab_type": "code",
        "colab": {}
      },
      "source": [
        "import matplotlib.pyplot as plt\n",
        "import pandas as pd\n",
        "import numpy as np"
      ],
      "execution_count": 0,
      "outputs": []
    },
    {
      "cell_type": "code",
      "metadata": {
        "id": "Il5_dS8GvRHl",
        "colab_type": "code",
        "outputId": "70836407-5e8c-4616-ce14-b49395224632",
        "colab": {
          "base_uri": "https://localhost:8080/",
          "height": 35
        }
      },
      "source": [
        "print(history.history.keys())"
      ],
      "execution_count": 0,
      "outputs": [
        {
          "output_type": "stream",
          "text": [
            "dict_keys(['val_loss', 'val_acc', 'loss', 'acc'])\n"
          ],
          "name": "stdout"
        }
      ]
    },
    {
      "cell_type": "code",
      "metadata": {
        "id": "RDFfp9ouuGyY",
        "colab_type": "code",
        "outputId": "4631b987-53d6-441e-8fc7-0a7cfc1871e1",
        "colab": {
          "base_uri": "https://localhost:8080/",
          "height": 295
        }
      },
      "source": [
        "plt.plot(history.history['acc'])\n",
        "plt.plot(history.history['val_acc'])\n",
        "plt.title('model accuracy')\n",
        "plt.ylabel('accuracy')\n",
        "plt.xlabel('epoch')\n",
        "plt.legend(['train', 'validation'], loc='upper left')\n",
        "plt.show()\n",
        "#accuaracy"
      ],
      "execution_count": 0,
      "outputs": [
        {
          "output_type": "display_data",
          "data": {
            "image/png": "[encoded data removed]",
            "text/plain": [
              "<Figure size 432x288 with 1 Axes>"
            ]
          },
          "metadata": {
            "tags": []
          }
        }
      ]
    },
    {
      "cell_type": "code",
      "metadata": {
        "id": "SmZ5yUwJxMVn",
        "colab_type": "code",
        "outputId": "c57fc977-f5c8-4066-e744-5feab791bc00",
        "colab": {
          "base_uri": "https://localhost:8080/",
          "height": 295
        }
      },
      "source": [
        "plt.plot(history.history['loss'])\n",
        "plt.plot(history.history['val_loss'])\n",
        "plt.title('model loss')\n",
        "plt.ylabel('loss')\n",
        "plt.xlabel('epoch')\n",
        "plt.legend(['train', 'validation'], loc='upper left')\n",
        "plt.show()"
      ],
      "execution_count": 0,
      "outputs": [
        {
          "output_type": "display_data",
          "data": {
            "image/png": "[encoded data removed]",
            "text/plain": [
              "<Figure size 432x288 with 1 Axes>"
            ]
          },
          "metadata": {
            "tags": []
          }
        }
      ]
    },
    {
      "cell_type": "code",
      "metadata": {
        "id": "lZShpT1yRoG7",
        "colab_type": "code",
        "colab": {}
      },
      "source": [
        "from keras.preprocessing import image"
      ],
      "execution_count": 0,
      "outputs": []
    },
    {
      "cell_type": "code",
      "metadata": {
        "id": "MuEqnpg5Ro1L",
        "colab_type": "code",
        "outputId": "e8a603ab-5284-4376-bf8b-bc44190c0815",
        "colab": {
          "base_uri": "https://localhost:8080/",
          "height": 268
        }
      },
      "source": [
        "img = image.load_img('/content/drive/My Drive/project new/babyCry.png', target_size=(64, 64, 3))\n",
        "plt.imshow(img)\n",
        "img = image.img_to_array(img)\n",
        "img = img/255.0\n",
        "\n",
        "img = img.reshape(1, 64, 64, 3)"
      ],
      "execution_count": 0,
      "outputs": [
        {
          "output_type": "display_data",
          "data": {
            "image/png": "[encoded data removed]",
            "text/plain": [
              "<Figure size 432x288 with 1 Axes>"
            ]
          },
          "metadata": {
            "tags": []
          }
        }
      ]
    },
    {
      "cell_type": "code",
      "metadata": {
        "id": "CGKniAfFRr4F",
        "colab_type": "code",
        "colab": {}
      },
      "source": [
        "y_prob = classifier.predict(img)"
      ],
      "execution_count": 0,
      "outputs": []
    },
    {
      "cell_type": "code",
      "metadata": {
        "id": "v7hXhWBLRuZ0",
        "colab_type": "code",
        "outputId": "066b603b-a8a6-45c2-df3a-48bb4a464671",
        "colab": {
          "base_uri": "https://localhost:8080/",
          "height": 35
        }
      },
      "source": [
        "y_prob"
      ],
      "execution_count": 0,
      "outputs": [
        {
          "output_type": "execute_result",
          "data": {
            "text/plain": [
              "array([[1.2026277e-06]], dtype=float32)"
            ]
          },
          "metadata": {
            "tags": []
          },
          "execution_count": 26
        }
      ]
    },
    {
      "cell_type": "code",
      "metadata": {
        "id": "Wfy6hjY-RvuN",
        "colab_type": "code",
        "colab": {}
      },
      "source": [
        ""
      ],
      "execution_count": 0,
      "outputs": []
    }
  ]
}